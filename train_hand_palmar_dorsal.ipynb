{
 "cells": [
  {
   "cell_type": "code",
   "execution_count": 9,
   "id": "7cd1310a-2329-43fd-a122-99e6314a9421",
   "metadata": {},
   "outputs": [
    {
     "name": "stdout",
     "output_type": "stream",
     "text": [
      "Extracting all the files now...\n",
      "Done!\n"
     ]
    }
   ],
   "source": [
    "# specifying the zip file name\n",
    "file_name = \"./hand_palm_dorsal_training/split_dataset.zip\"\n",
    "destination = \"./hand_palm_dorsal_training\"\n",
    "\n",
    "\n",
    "import zipfile\n",
    "with zipfile.ZipFile(file_name, 'r') as zip_ref:\n",
    "    print('Extracting all the files now...')\n",
    "    zip_ref.extractall(destination)\n",
    "    print('Done!')"
   ]
  },
  {
   "cell_type": "code",
   "execution_count": null,
   "id": "d5987f4f-0fd1-4489-a304-7366a2f407cf",
   "metadata": {},
   "outputs": [],
   "source": [
    "# Libraries Importation\n",
    "\n",
    "import tensorflow\n",
    "from tensorflow.keras.models import Sequential, Model\n",
    "from tensorflow.keras.layers import Dense, Conv2D, Flatten, MaxPool2D, Dropout\n",
    "from tensorflow.keras.optimizers import Adam\n",
    "from tensorflow.keras.applications.vgg16 import VGG16, preprocess_input\n",
    "from tensorflow.keras.preprocessing.image import ImageDataGenerator\n",
    "from tensorflow.keras.callbacks import ModelCheckpoint, EarlyStopping\n",
    "from tensorflow.keras.layers import Dense, Dropout, Flatten\n",
    "from pathlib import Path\n",
    "import numpy as np\n",
    "import os\n",
    "from livelossplot.inputs.keras import PlotLossesCallback"
   ]
  },
  {
   "cell_type": "code",
   "execution_count": 12,
   "id": "a9a8aaf3-ce08-43e0-b696-e8ff55cd2eae",
   "metadata": {},
   "outputs": [],
   "source": [
    "BATCH_SIZE = 64\n",
    "\n",
    "train_generator = ImageDataGenerator(rotation_range=90, \n",
    "                                     brightness_range=[0.1, 0.7],\n",
    "                                     width_shift_range=0.5, \n",
    "                                     height_shift_range=0.5,\n",
    "                                     horizontal_flip=True, \n",
    "                                     vertical_flip=True,\n",
    "                                     validation_split=0.15,\n",
    "                                     preprocessing_function=preprocess_input) # VGG16 preprocessing\n",
    "\n",
    "test_generator = ImageDataGenerator(preprocessing_function=preprocess_input) # VGG16 preprocessing"
   ]
  },
  {
   "cell_type": "code",
   "execution_count": 17,
   "id": "3215883e-b300-4c0d-9eea-d4cb75283b2b",
   "metadata": {},
   "outputs": [
    {
     "name": "stdout",
     "output_type": "stream",
     "text": [
      "Found 7532 images belonging to 2 classes.\n",
      "Found 1328 images belonging to 2 classes.\n",
      "Found 2216 images belonging to 2 classes.\n"
     ]
    }
   ],
   "source": [
    "train_data_dir =  \"./hand_palm_dorsal_training/split_dataset/train\"\n",
    "test_data_dir = \"./hand_palm_dorsal_training/split_dataset/test\"\n",
    "\n",
    "class_subset = sorted(os.listdir(\"./hand_palm_dorsal_training/split_dataset/train\"))\n",
    "\n",
    "traingen = train_generator.flow_from_directory(train_data_dir,\n",
    "                                               target_size=(224, 224),\n",
    "                                               class_mode='categorical',\n",
    "                                               classes=class_subset,\n",
    "                                               subset='training',\n",
    "                                               batch_size=BATCH_SIZE, \n",
    "                                               shuffle=True,\n",
    "                                               seed=42)\n",
    "\n",
    "validgen = train_generator.flow_from_directory(train_data_dir,\n",
    "                                               target_size=(224, 224),\n",
    "                                               class_mode='categorical',\n",
    "                                               classes=class_subset,\n",
    "                                               subset='validation',\n",
    "                                               batch_size=BATCH_SIZE,\n",
    "                                               shuffle=True,\n",
    "                                               seed=42)\n",
    "\n",
    "testgen = test_generator.flow_from_directory(test_data_dir,\n",
    "                                             target_size=(224, 224),\n",
    "                                             class_mode=None,\n",
    "                                             classes=class_subset,\n",
    "                                             batch_size=1,\n",
    "                                             shuffle=False,\n",
    "                                             seed=42)"
   ]
  },
  {
   "cell_type": "code",
   "execution_count": 19,
   "id": "f9c7ff50-8109-4aeb-9f8b-6aa008911521",
   "metadata": {},
   "outputs": [],
   "source": [
    "def create_model(input_shape, n_classes, optimizer='rmsprop', fine_tune=0):\n",
    "    \"\"\"\n",
    "    Compiles a model integrated with VGG16 pretrained layers\n",
    "    \n",
    "    input_shape: tuple - the shape of input images (width, height, channels)\n",
    "    n_classes: int - number of classes for the output layer\n",
    "    optimizer: string - instantiated optimizer to use for training. Defaults to 'RMSProp'\n",
    "    fine_tune: int - The number of pre-trained layers to unfreeze.\n",
    "                If set to 0, all pretrained layers will freeze during training\n",
    "    \"\"\"\n",
    "    \n",
    "    # Pretrained convolutional layers are loaded using the Imagenet weights.\n",
    "    # Include_top is set to False, in order to exclude the model's fully-connected layers.\n",
    "    conv_base = VGG16(include_top=False,\n",
    "                     weights='imagenet', \n",
    "                     input_shape=input_shape)\n",
    "    \n",
    "    # Defines how many layers to freeze during training.\n",
    "    # Layers in the convolutional base are switched from trainable to non-trainable\n",
    "    # depending on the size of the fine-tuning parameter.\n",
    "    if fine_tune > 0:\n",
    "        for layer in conv_base.layers[:-fine_tune]:\n",
    "            layer.trainable = False\n",
    "    else:\n",
    "        for layer in conv_base.layers:\n",
    "            layer.trainable = False\n",
    "\n",
    "    # Create a new 'top' of the model (i.e. fully-connected layers).\n",
    "    # This is 'bootstrapping' a new top_model onto the pretrained layers.\n",
    "    top_model = conv_base.output\n",
    "    top_model = Flatten(name=\"flatten\")(top_model)\n",
    "    top_model = Dense(4096, activation='relu')(top_model)\n",
    "    top_model = Dense(1072, activation='relu')(top_model)\n",
    "    top_model = Dropout(0.2)(top_model)\n",
    "    output_layer = Dense(n_classes, activation='softmax')(top_model)\n",
    "    \n",
    "    # Group the convolutional base and new fully-connected layers into a Model object.\n",
    "    model = Model(inputs=conv_base.input, outputs=output_layer)\n",
    "\n",
    "    # Compiles the model for training.\n",
    "    model.compile(optimizer=optimizer, \n",
    "                  loss='categorical_crossentropy',\n",
    "                  metrics=['accuracy'])\n",
    "    \n",
    "    return model"
   ]
  },
  {
   "cell_type": "code",
   "execution_count": 20,
   "id": "9e8ef68d-2d70-4f0d-ac20-8dd621f3e193",
   "metadata": {},
   "outputs": [
    {
     "name": "stdout",
     "output_type": "stream",
     "text": [
      "Downloading data from https://storage.googleapis.com/tensorflow/keras-applications/vgg16/vgg16_weights_tf_dim_ordering_tf_kernels_notop.h5\n",
      "58892288/58889256 [==============================] - 1s 0us/step\n",
      "58900480/58889256 [==============================] - 1s 0us/step\n"
     ]
    }
   ],
   "source": [
    "input_shape = (224, 224, 3)\n",
    "optim_1 = Adam(learning_rate=0.001)\n",
    "n_classes=len(class_subset)\n",
    "\n",
    "n_steps = traingen.samples // BATCH_SIZE\n",
    "n_val_steps = validgen.samples // BATCH_SIZE\n",
    "n_epochs = 20\n",
    "\n",
    "# First we'll train the model without Fine-tuning\n",
    "vgg_model = create_model(input_shape, n_classes, optim_1, fine_tune=0)"
   ]
  },
  {
   "cell_type": "code",
   "execution_count": 21,
   "id": "ffb8a883-b2da-4790-a210-1038985e5ad3",
   "metadata": {},
   "outputs": [],
   "source": [
    "from livelossplot.inputs.keras import PlotLossesCallback\n",
    "\n",
    "plot_loss_1 = PlotLossesCallback()\n",
    "\n",
    "# ModelCheckpoint callback - save best weights\n",
    "tl_checkpoint_1 = ModelCheckpoint(filepath='./hand_palm_dorsal_training/trained_models/tl_model_v1.weights.best.hdf5',\n",
    "                                  save_best_only=True,\n",
    "                                  verbose=1)\n",
    "\n",
    "# EarlyStopping\n",
    "early_stop = EarlyStopping(monitor='val_loss',\n",
    "                           patience=10,\n",
    "                           restore_best_weights=True,\n",
    "                           mode='min')"
   ]
  },
  {
   "cell_type": "code",
   "execution_count": 22,
   "id": "d1a2e600-6057-4fc0-b389-bc9b48d0bc6a",
   "metadata": {},
   "outputs": [
    {
     "data": {
      "image/png": "[encoded data removed]",
      "text/plain": [
       "<Figure size 864x576 with 2 Axes>"
      ]
     },
     "metadata": {
      "needs_background": "light"
     },
     "output_type": "display_data"
    },
    {
     "name": "stdout",
     "output_type": "stream",
     "text": [
      "accuracy\n",
      "\ttraining         \t (min:    0.842, max:    0.971, cur:    0.971)\n",
      "\tvalidation       \t (min:    0.888, max:    0.938, cur:    0.929)\n",
      "Loss\n",
      "\ttraining         \t (min:    0.077, max:    2.165, cur:    0.077)\n",
      "\tvalidation       \t (min:    0.182, max:    0.279, cur:    0.270)\n",
      "CPU times: user 2d 5h 11min 54s, sys: 3h 54min 13s, total: 2d 9h 6min 7s\n",
      "Wall time: 2h 8min 58s\n"
     ]
    }
   ],
   "source": [
    "%%time \n",
    "\n",
    "vgg_history = vgg_model.fit(traingen,\n",
    "                            batch_size=BATCH_SIZE,\n",
    "                            epochs=n_epochs,\n",
    "                            validation_data=validgen,\n",
    "                            steps_per_epoch=n_steps,\n",
    "                            validation_steps=n_val_steps,\n",
    "                            callbacks=[tl_checkpoint_1, early_stop, plot_loss_1],\n",
    "                            verbose=1)"
   ]
  },
  {
   "cell_type": "code",
   "execution_count": 23,
   "id": "aafba1cf-1a4f-4ae7-babc-f64cba3fe39c",
   "metadata": {},
   "outputs": [],
   "source": [
    "# Generate predictions\n",
    "vgg_model.load_weights('./hand_palm_dorsal_training/trained_models/tl_model_v1.weights.best.hdf5') # initialize the best trained weights\n",
    "\n",
    "true_classes = testgen.classes\n",
    "class_indices = traingen.class_indices\n",
    "class_indices = dict((v,k) for k,v in class_indices.items())\n",
    "\n",
    "vgg_preds = vgg_model.predict(testgen)\n",
    "vgg_pred_classes = np.argmax(vgg_preds, axis=1)"
   ]
  },
  {
   "cell_type": "code",
   "execution_count": 24,
   "id": "5250e3c8-8431-4068-9199-98f7c32455ee",
   "metadata": {},
   "outputs": [
    {
     "name": "stdout",
     "output_type": "stream",
     "text": [
      "VGG16 Model Accuracy without Fine-Tuning: 99.05%\n"
     ]
    }
   ],
   "source": [
    "from sklearn.metrics import accuracy_score\n",
    "\n",
    "vgg_acc = accuracy_score(true_classes, vgg_pred_classes)\n",
    "print(\"VGG16 Model Accuracy without Fine-Tuning: {:.2f}%\".format(vgg_acc * 100))"
   ]
  },
  {
   "cell_type": "code",
   "execution_count": 27,
   "id": "bd5c01bc-d49b-48b3-81b9-8aa98a14a0ff",
   "metadata": {},
   "outputs": [
    {
     "data": {
      "image/png": "[encoded data removed]",
      "text/plain": [
       "<Figure size 1440x720 with 1 Axes>"
      ]
     },
     "metadata": {
      "needs_background": "light"
     },
     "output_type": "display_data"
    }
   ],
   "source": [
    "import seaborn as sns\n",
    "from sklearn.metrics import confusion_matrix\n",
    "import matplotlib.pyplot as plt\n",
    "\n",
    "# Get the names of the ten classes\n",
    "class_names = testgen.class_indices.keys()\n",
    "\n",
    "def plot_heatmap(y_true, y_pred, class_names, ax, title):\n",
    "    cm = confusion_matrix(y_true, y_pred)\n",
    "    sns.heatmap(\n",
    "        cm, \n",
    "        annot=True, \n",
    "        square=True, \n",
    "        xticklabels=class_names, \n",
    "        yticklabels=class_names,\n",
    "        fmt='d', \n",
    "        cmap=plt.cm.Blues,\n",
    "        cbar=False,\n",
    "        ax=ax\n",
    "    )\n",
    "    ax.set_title(title, fontsize=16)\n",
    "    ax.set_xticklabels(ax.get_xticklabels(), rotation=45, ha=\"right\")\n",
    "    ax.set_ylabel('True Label', fontsize=12)\n",
    "    ax.set_xlabel('Predicted Label', fontsize=12)\n",
    "\n",
    "fig, (ax1) = plt.subplots(1, 1, figsize=(20, 10))\n",
    "\n",
    "plot_heatmap(true_classes, vgg_pred_classes, class_names, ax1, title=\"Transfer Learning (VGG16) No Fine-Tuning\")    \n",
    "\n",
    "fig.tight_layout()\n",
    "fig.subplots_adjust(top=1.25)\n",
    "plt.show()"
   ]
  },
  {
   "cell_type": "code",
   "execution_count": null,
   "id": "a506776c-6787-46ea-bac1-9e8a5a06d47f",
   "metadata": {},
   "outputs": [],
   "source": []
  },
  {
   "cell_type": "code",
   "execution_count": null,
   "id": "83f0d6c0-6e63-4772-a726-86c7e19dbbd3",
   "metadata": {},
   "outputs": [],
   "source": []
  },
  {
   "cell_type": "markdown",
   "id": "b5ed81ab-910e-45f0-8b25-6ab73a561fc7",
   "metadata": {},
   "source": [
    "# Inference"
   ]
  },
  {
   "cell_type": "code",
   "execution_count": 53,
   "id": "d3bb8eb9-5c4e-478e-ac2a-31733cb42619",
   "metadata": {},
   "outputs": [],
   "source": [
    "import cv2\n",
    "from tensorflow.keras.models import load_model\n",
    "import tensorflow as tf\n",
    "tf.get_logger().setLevel('INFO')\n",
    "\n",
    "def inference_func(image_path):\n",
    "\n",
    "    image = cv2.imread(image_path)\n",
    "    image = cv2.resize(image, (224, 224))\n",
    "    image = tf.reshape(image, [-1, 224, 224, 3])\n",
    "\n",
    "\n",
    "    inference_model = load_model('./hand_palm_dorsal_training/trained_models/tl_model_v1.weights.best.hdf5') # initialize the best trained weights\n",
    "    prediction = inference_model.predict(image)[0]\n",
    "    if max(prediction) == prediction[0]:\n",
    "        print(\"Dorsal\")\n",
    "    else:\n",
    "        print(\"Palmar\")"
   ]
  },
  {
   "cell_type": "code",
   "execution_count": 54,
   "id": "82d90927-112a-4210-b917-828e02cb0e2f",
   "metadata": {},
   "outputs": [
    {
     "name": "stdout",
     "output_type": "stream",
     "text": [
      "Palmar\n"
     ]
    }
   ],
   "source": [
    "inference_func(\"./hand_palm_dorsal_training/split_dataset/test/palmar/Hand_0000056.jpg\")"
   ]
  },
  {
   "cell_type": "code",
   "execution_count": 60,
   "id": "20fe82f3-1b26-48be-94df-ead35337f22c",
   "metadata": {},
   "outputs": [
    {
     "name": "stdout",
     "output_type": "stream",
     "text": [
      "Dorsal\n"
     ]
    }
   ],
   "source": [
    "inference_func(\"./hand_palm_dorsal_training/split_dataset/test/dorsal/Hand_0010706.jpg\")"
   ]
  },
  {
   "cell_type": "markdown",
   "id": "f14f572c-3fab-43dd-b4c2-8e0e04e9a8c1",
   "metadata": {},
   "source": [
    "## Convert Model to tflite"
   ]
  },
  {
   "cell_type": "code",
   "execution_count": 65,
   "id": "81cdb064-adab-409e-9263-46b00d60fbf1",
   "metadata": {},
   "outputs": [
    {
     "name": "stdout",
     "output_type": "stream",
     "text": [
      "INFO:tensorflow:Assets written to: /tmp/tmppoqoe2ci/assets\n"
     ]
    },
    {
     "data": {
      "text/plain": [
       "487502832"
      ]
     },
     "execution_count": 65,
     "metadata": {},
     "output_type": "execute_result"
    }
   ],
   "source": [
    "#Code to convert h5 to tflite\n",
    "import tensorflow as tf\n",
    "\n",
    "model =tf.keras.models.load_model('./hand_palm_dorsal_training/trained_models/tl_model_v1.weights.best.hdf5')\n",
    "\n",
    "#Convert to tflite\n",
    "converter = tf.lite.TFLiteConverter.from_keras_model(model)\n",
    "\n",
    "#Implement optimization strategy for smaller model sizes\n",
    "tflite_model = converter.convert()\n",
    "open(\"./hand_palm_dorsal_training/trained_models/hand_detection_tflite_model.tflite\", \"wb\").write(tflite_model)"
   ]
  },
  {
   "cell_type": "code",
   "execution_count": 100,
   "id": "cc963ab3-cc58-49fd-89c8-68a5d35b323f",
   "metadata": {},
   "outputs": [
    {
     "name": "stdout",
     "output_type": "stream",
     "text": [
      "1282.559 mb\n"
     ]
    }
   ],
   "source": [
    "# Get models size\n",
    "\n",
    "def get_size(file_path, unit='bytes'):\n",
    "    file_size = os.path.getsize(file_path)\n",
    "    exponents_map = {'bytes': 0, 'kb': 1, 'mb': 2, 'gb': 3}\n",
    "    if unit not in exponents_map:\n",
    "        raise ValueError(\"Must select from \\\n",
    "        ['bytes', 'kb', 'mb', 'gb']\")\n",
    "    else:\n",
    "        size = file_size / 1024 ** exponents_map[unit]\n",
    "        return round(size, 3)\n",
    "\n",
    "file_path = \"./hand_palm_dorsal_training/trained_models/tl_model_v1.weights.best.hdf5\"\n",
    "print(get_size(file_path, 'mb'),\"mb\")"
   ]
  },
  {
   "cell_type": "code",
   "execution_count": 68,
   "id": "a15e5d6b-8760-4f1c-8907-5e582a22f91d",
   "metadata": {},
   "outputs": [
    {
     "name": "stdout",
     "output_type": "stream",
     "text": [
      "464.919 mb\n"
     ]
    }
   ],
   "source": [
    "file_path = \"./hand_palm_dorsal_training/trained_models/hand_detection_tflite_model.tflite\"\n",
    "print(get_size(file_path, 'mb'),\"mb\")"
   ]
  },
  {
   "cell_type": "code",
   "execution_count": 82,
   "id": "b46ed5b9-8b4c-4c97-9c84-55f853f12846",
   "metadata": {},
   "outputs": [
    {
     "data": {
      "text/plain": [
       "[{'name': 'Identity',\n",
       "  'index': 56,\n",
       "  'shape': array([1, 2], dtype=int32),\n",
       "  'shape_signature': array([-1,  2], dtype=int32),\n",
       "  'dtype': numpy.float32,\n",
       "  'quantization': (0.0, 0),\n",
       "  'quantization_parameters': {'scales': array([], dtype=float32),\n",
       "   'zero_points': array([], dtype=int32),\n",
       "   'quantized_dimension': 0},\n",
       "  'sparsity_parameters': {}}]"
      ]
     },
     "execution_count": 82,
     "metadata": {},
     "output_type": "execute_result"
    }
   ],
   "source": [
    "output_details"
   ]
  },
  {
   "cell_type": "code",
   "execution_count": 71,
   "id": "3b70df51-7b14-4e20-99ef-a77ccbe6ffe6",
   "metadata": {},
   "outputs": [
    {
     "data": {
      "text/plain": [
       "[{'name': 'input_1',\n",
       "  'index': 0,\n",
       "  'shape': array([  1, 224, 224,   3], dtype=int32),\n",
       "  'shape_signature': array([ -1, 224, 224,   3], dtype=int32),\n",
       "  'dtype': numpy.float32,\n",
       "  'quantization': (0.0, 0),\n",
       "  'quantization_parameters': {'scales': array([], dtype=float32),\n",
       "   'zero_points': array([], dtype=int32),\n",
       "   'quantized_dimension': 0},\n",
       "  'sparsity_parameters': {}}]"
      ]
     },
     "execution_count": 71,
     "metadata": {},
     "output_type": "execute_result"
    }
   ],
   "source": [
    "input_details"
   ]
  },
  {
   "cell_type": "code",
   "execution_count": 97,
   "id": "cf7eb5e1-e66c-4028-9540-d0bf5629910d",
   "metadata": {},
   "outputs": [
    {
     "name": "stdout",
     "output_type": "stream",
     "text": [
      "Keras Model size is:  1282.5585174560547 MB\n",
      "Total prediction time for keras model is:  0.3218190670013428\n",
      "Palmar\n"
     ]
    }
   ],
   "source": [
    "\n",
    "\n",
    "import numpy as np\n",
    "import tensorflow as tf\n",
    "\n",
    "from keras.preprocessing.image import load_img, img_to_array\n",
    "from time import time\n",
    "from matplotlib import pyplot as plt\n",
    "import os\n",
    "\n",
    "image_path = \"./hand_palm_dorsal_training/split_dataset/test/palmar/Hand_0000056.jpg\"\n",
    "\n",
    "image = load_img(image_path, target_size=(224,224))\n",
    "\n",
    "image = img_to_array(image)\n",
    "# reshape data for the model\n",
    "image = image.reshape((1, image.shape[0], image.shape[1], image.shape[2]))\n",
    "#print(image.shape)\n",
    "\n",
    "\n",
    "###############################################\n",
    "###PREDICT USING REGULAR KERAS TRAINED MODEL FILE (h5). \n",
    "##########################################################\n",
    "\n",
    "keras_model_size = os.path.getsize(\"./hand_palm_dorsal_training/trained_models/tl_model_v1.weights.best.hdf5\")/1048576  #Convert to MB\n",
    "print(\"Keras Model size is: \", keras_model_size, \"MB\")\n",
    "#Using regular keral model\n",
    "model = tf.keras.models.load_model(\"./hand_palm_dorsal_training/trained_models/tl_model_v1.weights.best.hdf5\")\n",
    "\n",
    "time_before=time()\n",
    "keras_prediction = model.predict(image)\n",
    "time_after=time()\n",
    "total_keras_time = time_after - time_before\n",
    "print(\"Total prediction time for keras model is: \", total_keras_time)\n",
    "\n",
    "if max(keras_prediction[0]) == prediction[0]:\n",
    "    print(\"Dorsal\")\n",
    "else:\n",
    "    print(\"Palmar\")"
   ]
  },
  {
   "cell_type": "code",
   "execution_count": 106,
   "id": "58f950d6-c08c-4ace-bca6-d960f232d019",
   "metadata": {},
   "outputs": [
    {
     "name": "stdout",
     "output_type": "stream",
     "text": [
      "tflite Model without opt. size is:  464.91893005371094 MB\n",
      "Total prediction time for tflite without opt model is:  0.5541529655456543\n",
      "Palmar\n"
     ]
    }
   ],
   "source": [
    "##################################################################################\n",
    "#### PREDICT USING tflite ###\n",
    "############################################################################\n",
    "\n",
    "tflite_size = os.path.getsize(\"./hand_palm_dorsal_training/trained_models/hand_detection_tflite_model.tflite\")/1048576  #Convert to MB\n",
    "print(\"tflite Model without opt. size is: \", tflite_size, \"MB\")\n",
    "#\n",
    "tflite_model_path = \"./hand_palm_dorsal_training/trained_models/hand_detection_tflite_model.tflite\"\n",
    "\n",
    "# Load the TFLite model and allocate tensors.\n",
    "interpreter = tf.lite.Interpreter(model_path=tflite_model_path)\n",
    "interpreter.allocate_tensors()\n",
    "\n",
    "# Get input and output tensors.\n",
    "input_details = interpreter.get_input_details()\n",
    "output_details = interpreter.get_output_details()\n",
    "\n",
    "# Test the model on input data.\n",
    "input_shape = input_details[0]['shape']\n",
    "\n",
    "# Load image\n",
    "input_data = image\n",
    "\n",
    "interpreter.set_tensor(input_details[0]['index'], input_data)\n",
    "\n",
    "time_before=time()\n",
    "interpreter.invoke()\n",
    "time_after=time()\n",
    "total_tflite_time = time_after - time_before\n",
    "print(\"Total prediction time for tflite without opt model is: \", total_tflite_time)\n",
    "\n",
    "output_data_tflite = interpreter.get_tensor(output_details[0]['index'])\n",
    "if max(output_data_tflite[0]) == output_data_tflite[0][0]:\n",
    "    print(\"Dorsal\")\n",
    "else:\n",
    "    print(\"Palmar\")"
   ]
  },
  {
   "cell_type": "code",
   "execution_count": null,
   "id": "b54278ac-fb3f-46fb-a344-3517169f0a04",
   "metadata": {},
   "outputs": [],
   "source": []
  }
 ],
 "metadata": {
  "kernelspec": {
   "display_name": "Python 3 (ipykernel)",
   "language": "python",
   "name": "python3"
  },
  "language_info": {
   "codemirror_mode": {
    "name": "ipython",
    "version": 3
   },
   "file_extension": ".py",
   "mimetype": "text/x-python",
   "name": "python",
   "nbconvert_exporter": "python",
   "pygments_lexer": "ipython3",
   "version": "3.7.16"
  }
 },
 "nbformat": 4,
 "nbformat_minor": 5
}
